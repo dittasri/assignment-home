{
 "cells": [
  {
   "cell_type": "code",
   "execution_count": 5,
   "id": "8c9593ae",
   "metadata": {},
   "outputs": [
    {
     "name": "stdout",
     "output_type": "stream",
     "text": [
      " * Serving Flask app '__main__'\n",
      " * Debug mode: on\n"
     ]
    },
    {
     "name": "stderr",
     "output_type": "stream",
     "text": [
      "WARNING: This is a development server. Do not use it in a production deployment. Use a production WSGI server instead.\n",
      " * Running on http://127.0.0.1:5000\n",
      "Press CTRL+C to quit\n",
      " * Restarting with watchdog (windowsapi)\n"
     ]
    },
    {
     "ename": "SystemExit",
     "evalue": "1",
     "output_type": "error",
     "traceback": [
      "An exception has occurred, use %tb to see the full traceback.\n",
      "\u001b[1;31mSystemExit\u001b[0m\u001b[1;31m:\u001b[0m 1\n"
     ]
    },
    {
     "name": "stderr",
     "output_type": "stream",
     "text": [
      "C:\\Users\\SRI BHAVYA\\anaconda3\\lib\\site-packages\\IPython\\core\\interactiveshell.py:3468: UserWarning: To exit: use 'exit', 'quit', or Ctrl-D.\n",
      "  warn(\"To exit: use 'exit', 'quit', or Ctrl-D.\", stacklevel=1)\n"
     ]
    }
   ],
   "source": [
    "from flask import Flask, render_template, request\n",
    "\n",
    "app = Flask(__name__)\n",
    "\n",
    "# Sample tasks data (replace this with your actual data)\n",
    "tasks = [\n",
    "    {'id': 1, 'title': 'Task 1', 'description': 'Description for Task 1', 'status': 'todo'},\n",
    "    {'id': 2, 'title': 'Task 2', 'description': 'Description for Task 2', 'status': 'inprogress'},\n",
    "    {'id': 3, 'title': 'Task 3', 'description': 'Description for Task 3', 'status': 'completed'}\n",
    "]\n",
    "\n",
    "# Route to render the task list template\n",
    "@app.route('/')\n",
    "def index():\n",
    "    return render_template('task_list.html', tasks=tasks)\n",
    "\n",
    "# Route to handle form submission for adding a new task\n",
    "@app.route('/add_task', methods=['POST'])\n",
    "def add_task():\n",
    "    title = request.form['title']\n",
    "    description = request.form['description']\n",
    "    status = request.form['status']\n",
    "    task_id = len(tasks) + 1  # Generate a unique ID (replace this with your actual ID generation logic)\n",
    "    new_task = {'id': task_id, 'title': title, 'description': description, 'status': status}\n",
    "    tasks.append(new_task)\n",
    "    return render_template('task_list.html', tasks=tasks)\n",
    "\n",
    "if __name__ == '__main__':\n",
    "    app.run(debug=True)\n"
   ]
  }
 ],
 "metadata": {
  "kernelspec": {
   "display_name": "Python 3 (ipykernel)",
   "language": "python",
   "name": "python3"
  },
  "language_info": {
   "codemirror_mode": {
    "name": "ipython",
    "version": 3
   },
   "file_extension": ".py",
   "mimetype": "text/x-python",
   "name": "python",
   "nbconvert_exporter": "python",
   "pygments_lexer": "ipython3",
   "version": "3.10.9"
  }
 },
 "nbformat": 4,
 "nbformat_minor": 5
}
